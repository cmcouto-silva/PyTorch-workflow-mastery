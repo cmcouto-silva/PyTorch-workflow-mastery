{
 "cells": [
  {
   "cell_type": "markdown",
   "metadata": {},
   "source": [
    "# Setup "
   ]
  },
  {
   "cell_type": "markdown",
   "metadata": {},
   "source": [
    "This first cell set the working directory as the project directory:"
   ]
  },
  {
   "cell_type": "code",
   "execution_count": null,
   "metadata": {},
   "outputs": [],
   "source": [
    "import os\n",
    "\n",
    "if os.getcwd().endswith('notebooks'):\n",
    "    os.chdir('..')\n",
    "print(os.getcwd())"
   ]
  },
  {
   "cell_type": "markdown",
   "metadata": {},
   "source": [
    "## Libraries"
   ]
  },
  {
   "cell_type": "code",
   "execution_count": null,
   "metadata": {},
   "outputs": [],
   "source": [
    "import torch\n",
    "from torch import nn\n",
    "from torch.optim import Adam, SGD\n",
    "import torchmetrics\n",
    "from torchvision import datasets\n",
    "import torchvision.transforms as transforms\n",
    "from torchvision.models import ResNet18_Weights, resnet18\n",
    "\n",
    "from tqdm import tqdm\n",
    "from loguru import logger\n",
    "\n",
    "import numpy as np\n",
    "import matplotlib.pyplot as plt\n",
    "\n",
    "import optuna\n",
    "import wandb\n",
    "from dotenv import load_dotenv"
   ]
  },
  {
   "cell_type": "markdown",
   "metadata": {},
   "source": [
    "## Device"
   ]
  },
  {
   "cell_type": "code",
   "execution_count": null,
   "metadata": {},
   "outputs": [],
   "source": [
    "# [Optional] Enable TF32 for better performance on modern NVIDIA GPUs\n",
    "torch.set_float32_matmul_precision('high')"
   ]
  },
  {
   "cell_type": "code",
   "execution_count": null,
   "metadata": {},
   "outputs": [],
   "source": [
    "# Set available device (CPU or GPU - cuda)\n",
    "device = torch.device(\"cuda\" if torch.cuda.is_available() else \"cpu\")\n",
    "print(f\"Using device: {device}\")"
   ]
  },
  {
   "cell_type": "markdown",
   "metadata": {},
   "source": [
    "## Config Parameters"
   ]
  },
  {
   "cell_type": "code",
   "execution_count": null,
   "metadata": {},
   "outputs": [],
   "source": [
    "# Random seed\n",
    "seed = 42\n",
    "\n",
    "# Training parameters\n",
    "# num_epochs = 3\n",
    "# batch_size = 128  # Larger batches for faster training\n",
    "# learning_rate = 0.001\n",
    "\n",
    "# Model parameters\n",
    "num_classes = 10  # CIFAR10 has 10 classes\n",
    "model_path = 'weights/cifar10_model.pt'  # Path to save/load model weights\n",
    "\n",
    "# DataLoader settings\n",
    "train_num_workers = 4  # Number of parallel processes for data loading\n",
    "test_num_workers = 4   # Increase these if you have more CPU cores"
   ]
  },
  {
   "cell_type": "code",
   "execution_count": null,
   "metadata": {},
   "outputs": [],
   "source": [
    "## -- Set seeds -- ##\n",
    "\n",
    "# CPU seed\n",
    "torch.manual_seed(seed)  # Controls random number generation for PyTorch CPU operations\n",
    "\n",
    "# NumPy seed (for data loading/processing)\n",
    "np.random.seed(seed)     # Controls random number generation for NumPy operations\n",
    "\n",
    "# If GPU is available\n",
    "if torch.cuda.is_available():\n",
    "    # GPU seed\n",
    "    torch.cuda.manual_seed(seed)  # Controls random number generation for PyTorch GPU operations\n",
    "    # Force CUDA to use deterministic algorithms\n",
    "    torch.backends.cudnn.deterministic = False  # Makes GPU operations deterministic (might be slower)\n",
    "    \n",
    "# Set `deterministic = False` because we'll prioritize performance over reproducibility =S"
   ]
  },
  {
   "cell_type": "markdown",
   "metadata": {},
   "source": [
    "# Optuna Workflow"
   ]
  },
  {
   "cell_type": "code",
   "execution_count": null,
   "metadata": {},
   "outputs": [],
   "source": [
    "# Data Transformers (same as before)\n",
    "train_transformer = transforms.Compose([\n",
    "    transforms.ToTensor(),\n",
    "    transforms.Normalize((0.485, 0.456, 0.406), (0.229, 0.224, 0.225))\n",
    "])\n",
    "\n",
    "val_transformer = transforms.Compose([\n",
    "    transforms.ToTensor(),\n",
    "    transforms.Normalize((0.485, 0.456, 0.406), (0.229, 0.224, 0.225))\n",
    "])"
   ]
  },
  {
   "cell_type": "code",
   "execution_count": null,
   "metadata": {},
   "outputs": [],
   "source": [
    "# Define Optuna objective\n",
    "def objective(trial):\n",
    "    \n",
    "    # Sample hyperparameters\n",
    "    hparams = {\n",
    "        \"learning_rate\": trial.suggest_float(\"learning_rate\", 1e-4, 1e-2, log=True),\n",
    "        \"batch_size\": trial.suggest_categorical(\"batch_size\", [64, 128, 256]),\n",
    "        \"optimizer\": trial.suggest_categorical(\"optimizer\", [\"Adam\", \"SGD\"]),\n",
    "        \"dropout_rate\": trial.suggest_float(\"dropout_rate\", 0.1, 0.5),\n",
    "        \"num_epochs\": 3,  # Fixed for quick trials\n",
    "        \"model\": \"ResNet18\",\n",
    "        \"trial_number\": trial.number\n",
    "    }\n",
    "    \n",
    "    # Initialize W&B\n",
    "    run = wandb.init(\n",
    "        project=\"pytorch-cifar10-optuna\",\n",
    "        config=hparams,\n",
    "        name=f\"trial_{trial.number}\",\n",
    "        reinit=True\n",
    "    )\n",
    "    \n",
    "    # Load datasets\n",
    "    train_dataset = datasets.CIFAR10(\n",
    "        root='./data', train=True, download=True, transform=train_transformer\n",
    "    )\n",
    "    val_dataset = datasets.CIFAR10(\n",
    "        root='./data', train=False, download=True, transform=val_transformer\n",
    "    )\n",
    "    \n",
    "    # Create dataloaders\n",
    "    train_loader = torch.utils.data.DataLoader(\n",
    "        train_dataset,\n",
    "        batch_size=hparams[\"batch_size\"],\n",
    "        shuffle=True,\n",
    "        num_workers=train_num_workers,\n",
    "        pin_memory=True\n",
    "    )\n",
    "    \n",
    "    val_loader = torch.utils.data.DataLoader(\n",
    "        val_dataset,\n",
    "        batch_size=hparams[\"batch_size\"],\n",
    "        shuffle=False,\n",
    "        num_workers=train_num_workers,\n",
    "        pin_memory=True\n",
    "    )\n",
    "    \n",
    "    # Initialize model\n",
    "    model = resnet18(weights=ResNet18_Weights.IMAGENET1K_V1)\n",
    "    model.fc = nn.Sequential(\n",
    "        nn.Dropout(hparams[\"dropout_rate\"]),\n",
    "        nn.Linear(model.fc.in_features, num_classes)\n",
    "    )\n",
    "    model = model.to(device)\n",
    "    model = torch.compile(model)\n",
    "    \n",
    "    # Loss and optimizer\n",
    "    criterion = nn.CrossEntropyLoss()\n",
    "    optimizer = (Adam if hparams[\"optimizer\"] == \"Adam\" else SGD)(\n",
    "        model.parameters(), lr=hparams[\"learning_rate\"]\n",
    "    )\n",
    "    \n",
    "    # Metrics\n",
    "    train_loss = torchmetrics.MeanMetric().to(device)\n",
    "    val_loss = torchmetrics.MeanMetric().to(device)\n",
    "    train_accuracy = torchmetrics.Accuracy(task=\"multiclass\", num_classes=10).to(device)\n",
    "    val_accuracy = torchmetrics.Accuracy(task=\"multiclass\", num_classes=10).to(device)\n",
    "    \n",
    "    # Training loop\n",
    "    best_accuracy = 0.0\n",
    "    \n",
    "    for epoch in range(hparams[\"num_epochs\"]):\n",
    "        # Train\n",
    "        model.train()\n",
    "        train_loss.reset()\n",
    "        train_accuracy.reset()\n",
    "        \n",
    "        train_progress = tqdm(train_loader, desc=f'• Epoch {epoch + 1}/{hparams[\"num_epochs\"]} [Train]', leave=False)\n",
    "        \n",
    "        for images, labels in train_progress:\n",
    "            images, labels = images.to(device), labels.to(device)\n",
    "            \n",
    "            optimizer.zero_grad(set_to_none=True)\n",
    "            outputs = model(images)\n",
    "            loss = criterion(outputs, labels)\n",
    "            loss.backward()\n",
    "            optimizer.step()\n",
    "            \n",
    "            train_loss.update(loss)\n",
    "            train_accuracy.update(outputs, labels)\n",
    "            \n",
    "            train_progress.set_postfix({\n",
    "                'loss': f'{train_loss.compute():.3f}',\n",
    "                'acc': f'{train_accuracy.compute():.1%}'\n",
    "            })\n",
    "        \n",
    "        # Validate\n",
    "        model.eval()\n",
    "        val_loss.reset()\n",
    "        val_accuracy.reset()\n",
    "        \n",
    "        with torch.inference_mode():\n",
    "            val_progress = tqdm(\n",
    "                val_loader, desc=f'• Epoch {epoch + 1}/{hparams[\"num_epochs\"]} [Valid]', leave=False\n",
    "            )\n",
    "            \n",
    "            for images, labels in val_progress:\n",
    "                images, labels = images.to(device), labels.to(device)\n",
    "                outputs = model(images)\n",
    "                loss = criterion(outputs, labels)\n",
    "                \n",
    "                val_loss.update(loss)\n",
    "                val_accuracy.update(outputs, labels)\n",
    "                \n",
    "                val_progress.set_postfix({\n",
    "                    'loss': f'{val_loss.compute():.3f}',\n",
    "                    'acc': f'{val_accuracy.compute():.1%}'\n",
    "                })\n",
    "        \n",
    "        # Log metrics\n",
    "        metrics = {\n",
    "            \"epoch\": epoch,\n",
    "            \"train_loss\": train_loss.compute(),\n",
    "            \"train_accuracy\": train_accuracy.compute(),\n",
    "            \"val_loss\": val_loss.compute(),\n",
    "            \"val_accuracy\": val_accuracy.compute()\n",
    "        }\n",
    "        \n",
    "        wandb.log(metrics)\n",
    "        logger.debug(\n",
    "            f\"Epoch {epoch+1}/{hparams['num_epochs']}: \"\n",
    "            f\"Train Loss: {metrics['train_loss']:.3f} | \"\n",
    "            f\"Train Acc: {metrics['train_accuracy']:.1%} | \"\n",
    "            f\"Val Loss: {metrics['val_loss']:.3f} | \"\n",
    "            f\"Val Acc: {metrics['val_accuracy']:.1%}\"\n",
    "        )\n",
    "        \n",
    "        # Update best accuracy\n",
    "        best_accuracy = max(best_accuracy, metrics['val_accuracy'])\n",
    "        \n",
    "        # Report to Optuna\n",
    "        trial.report(metrics['val_accuracy'], epoch)\n",
    "        \n",
    "        if trial.should_prune():\n",
    "            run.finish()\n",
    "            raise optuna.TrialPruned()\n",
    "    \n",
    "    run.finish()\n",
    "    return best_accuracy"
   ]
  },
  {
   "cell_type": "code",
   "execution_count": null,
   "metadata": {},
   "outputs": [],
   "source": [
    "# Load W&B credentials\n",
    "load_dotenv()\n",
    "assert os.getenv(\"WANDB_API_KEY\") is not None, \"WANDB_API_KEY not found in environment variables\""
   ]
  },
  {
   "cell_type": "code",
   "execution_count": null,
   "metadata": {},
   "outputs": [],
   "source": [
    "# Create and run Optuna study\n",
    "study = optuna.create_study(\n",
    "    direction=\"maximize\",\n",
    "    pruner=optuna.pruners.MedianPruner(n_startup_trials=5, n_warmup_steps=1)\n",
    ")"
   ]
  },
  {
   "cell_type": "code",
   "execution_count": null,
   "metadata": {},
   "outputs": [],
   "source": [
    "logger.info(\"Starting hyperparameter optimization...\")\n",
    "study.optimize(objective, n_trials=10)"
   ]
  },
  {
   "cell_type": "code",
   "execution_count": null,
   "metadata": {},
   "outputs": [],
   "source": [
    "# Print results\n",
    "logger.info(\"Best trial:\")\n",
    "trial = study.best_trial\n",
    "logger.info(f\"  Value: {trial.value:.3f}\")\n",
    "logger.info(\"  Params: \")\n",
    "for key, value in trial.params.items():\n",
    "    logger.info(f\"    {key}: {value}\")"
   ]
  },
  {
   "cell_type": "code",
   "execution_count": null,
   "metadata": {},
   "outputs": [],
   "source": [
    "trial.number"
   ]
  }
 ],
 "metadata": {
  "kernelspec": {
   "display_name": ".venv",
   "language": "python",
   "name": "python3"
  },
  "language_info": {
   "codemirror_mode": {
    "name": "ipython",
    "version": 3
   },
   "file_extension": ".py",
   "mimetype": "text/x-python",
   "name": "python",
   "nbconvert_exporter": "python",
   "pygments_lexer": "ipython3",
   "version": "3.12.3"
  }
 },
 "nbformat": 4,
 "nbformat_minor": 2
}
